{
 "cells": [
  {
   "cell_type": "markdown",
   "source": [
    "# 종이의 개수\n",
    "\n",
    "### 문제\n",
    "\n",
    "N×N크기의 행렬로 표현되는 종이가 있다. 종이의 각 칸에는 -1, 0, 1 중 하나가 저장되어 있다. 우리는 이 행렬을 다음과 같은 규칙에 따라 적절한 크기로 자르려고 한다.\n",
    "\n",
    "- 만약 종이가 모두 같은 수로 되어 있다면 이 종이를 그대로 사용한다.\n",
    "- (1)이 아닌 경우에는 종이를 같은 크기의 종이 9개로 자르고, 각각의 잘린 종이에 대해서 (1)의 과정을 반복한다.\n",
    "\n",
    "이와 같이 종이를 잘랐을 때, -1로만 채워진 종이의 개수, 0으로만 채워진 종이의 개수, 1로만 채워진 종이의 개수를 구해내는 프로그램을 작성하시오.\n",
    "\n",
    "\n",
    "\n",
    "### 입력\n",
    "\n",
    "첫째 줄에 N(1 ≤ N ≤ 37, N은 3k 꼴)이 주어진다. 다음 N개의 줄에는 N개의 정수로 행렬이 주어진다.\n",
    "\n",
    "### 출력\n",
    "\n",
    "첫째 줄에 -1로만 채워진 종이의 개수를, 둘째 줄에 0으로만 채워진 종이의 개수를, 셋째 줄에 1로만 채워진 종이의 개수를 출력한다.\n",
    "\n",
    "--------------\n",
    "\n",
    "## 풀이\n",
    "\n",
    "**Num**에 3을 계속 나눠주면서 재귀 호출을 하는데, 이때 9번의 재귀 호출을 할 때마다 첫째 자리의 **index**를 입력으로 같이 넣어준다.\n",
    "**Index**를 받아서 해당 자리의 값과 나머지 값들이 같은지 체크한다.\n",
    "**Flag**를 이용해서 해당 new_num * new_num 종이가 맞는 종이인지 체크한다. 맞다면 break를 해서 result에 1을 더해준다."
   ],
   "metadata": {
    "collapsed": false,
    "pycharm": {
     "name": "#%% md\n"
    }
   }
  }
 ],
 "metadata": {
  "kernelspec": {
   "display_name": "Python 3",
   "language": "python",
   "name": "python3"
  },
  "language_info": {
   "codemirror_mode": {
    "name": "ipython",
    "version": 2
   },
   "file_extension": ".py",
   "mimetype": "text/x-python",
   "name": "python",
   "nbconvert_exporter": "python",
   "pygments_lexer": "ipython2",
   "version": "2.7.6"
  }
 },
 "nbformat": 4,
 "nbformat_minor": 0
}