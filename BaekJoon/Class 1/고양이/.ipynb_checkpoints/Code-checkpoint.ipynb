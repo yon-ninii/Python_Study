{
 "cells": [
  {
   "cell_type": "markdown",
   "id": "ae57616d",
   "metadata": {},
   "source": [
    "# 고양이\n",
    "\n",
    "### 아래 예제와 같이 고양이를 출력하시오\n",
    "\n",
    "> \n",
    "    \\    /\\\n",
    "     )  ( ')\n",
    "    (  /  )\n",
    "     \\(__)|\n"
   ]
  },
  {
   "cell_type": "code",
   "execution_count": null,
   "id": "5f7a4fdd",
   "metadata": {},
   "outputs": [],
   "source": [
    "print(\"\\\\    /\\\\\")\n",
    "print(\" )  ( ')\")\n",
    "print(\"(  /  )\")\n",
    "print(\" \\\\(__)|\")"
   ]
  }
 ],
 "metadata": {
  "kernelspec": {
   "display_name": "Python 3 (ipykernel)",
   "language": "python",
   "name": "python3"
  },
  "language_info": {
   "codemirror_mode": {
    "name": "ipython",
    "version": 3
   },
   "file_extension": ".py",
   "mimetype": "text/x-python",
   "name": "python",
   "nbconvert_exporter": "python",
   "pygments_lexer": "ipython3",
   "version": "3.9.7"
  }
 },
 "nbformat": 4,
 "nbformat_minor": 5
}
