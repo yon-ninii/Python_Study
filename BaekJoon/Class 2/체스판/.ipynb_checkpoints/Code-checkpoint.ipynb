{
 "cells": [
  {
   "cell_type": "markdown",
   "id": "5fa82f05",
   "metadata": {},
   "source": [
    "# 체스판 다시 칠하기\n",
    "\n",
    "### 문제\n",
    "\n",
    "지민이는 자신의 저택에서 MN개의 단위 정사각형으로 나누어져 있는 M×N 크기의 보드를 찾았다. 어떤 정사각형은 검은색으로 칠해져 있고, 나머지는 흰색으로 칠해져 있다. 지민이는 이 보드를 잘라서 8×8 크기의 체스판으로 만들려고 한다.\n",
    "\n",
    "체스판은 검은색과 흰색이 번갈아서 칠해져 있어야 한다. 구체적으로, 각 칸이 검은색과 흰색 중 하나로 색칠되어 있고, 변을 공유하는 두 개의 사각형은 다른 색으로 칠해져 있어야 한다. 따라서 이 정의를 따르면 체스판을 색칠하는 경우는 두 가지뿐이다. 하나는 맨 왼쪽 위 칸이 흰색인 경우, 하나는 검은색인 경우이다.\n",
    "\n",
    "보드가 체스판처럼 칠해져 있다는 보장이 없어서, 지민이는 8×8 크기의 체스판으로 잘라낸 후에 몇 개의 정사각형을 다시 칠해야겠다고 생각했다. 당연히 8*8 크기는 아무데서나 골라도 된다. 지민이가 다시 칠해야 하는 정사각형의 최소 개수를 구하는 프로그램을 작성하시오.\n",
    "\n",
    "### 입력\n",
    "\n",
    "첫째 줄에 N과 M이 주어진다. N과 M은 8보다 크거나 같고, 50보다 작거나 같은 자연수이다. 둘째 줄부터 N개의 줄에는 보드의 각 행의 상태가 주어진다. B는 검은색이며, W는 흰색이다.\n",
    "\n",
    "### 출력\n",
    "\n",
    "첫째 줄에 지민이가 다시 칠해야 하는 정사각형 개수의 최솟값을 출력한다.\n",
    "\n",
    "--------------"
   ]
  },
  {
   "cell_type": "code",
   "execution_count": 62,
   "id": "88c2dcf4",
   "metadata": {},
   "outputs": [],
   "source": [
    "def num_chess_1(x, y, CB):\n",
    "    num = 0\n",
    "    ans1 = ['B', 'W', 'B', 'W', 'B', 'W', 'B', 'W']\n",
    "    ans2 = ['W', 'B', 'W', 'B', 'W', 'B', 'W', 'B']\n",
    "    \n",
    "    for j in range(y, y + 8, 2):\n",
    "        for i in range(x, x + 8):\n",
    "            if CB[j][i] != ans1[i - x]:\n",
    "                num += 1\n",
    "                \n",
    "    for j in range(y + 1, y + 8, 2):\n",
    "        for i in range(x, x + 8):\n",
    "            if CB[j][i] != ans2[i - x]:\n",
    "                num += 1\n",
    "                \n",
    "    return num"
   ]
  },
  {
   "cell_type": "code",
   "execution_count": 63,
   "id": "50b38367",
   "metadata": {},
   "outputs": [],
   "source": [
    "def num_chess_2(x, y, CB):\n",
    "    num = 0\n",
    "    ans1 = ['W', 'B', 'W', 'B', 'W', 'B', 'W', 'B']\n",
    "    ans2 = ['B', 'W', 'B', 'W', 'B', 'W', 'B', 'W']\n",
    "    \n",
    "    for j in range(y, y + 8, 2):\n",
    "        for i in range(x, x + 8):\n",
    "            if CB[j][i] != ans1[i - x]:\n",
    "                num += 1\n",
    "                \n",
    "    for j in range(y + 1, y + 8, 2):\n",
    "        for i in range(x, x + 8):\n",
    "            if CB[j][i] != ans2[i - x]:\n",
    "                num += 1\n",
    "                \n",
    "    return num"
   ]
  },
  {
   "cell_type": "code",
   "execution_count": 72,
   "id": "d619ba2c",
   "metadata": {},
   "outputs": [
    {
     "name": "stdout",
     "output_type": "stream",
     "text": [
      "36 48\n",
      "BBWBWWWBBBBWBBWBWBWBWBBBBBWBWBBBWBBBWBWWWBBBWBWW WWWWWWWBWWWBWWWBBWWBWBBWBWBBBWWWBWBBWBBWWWBWWBWB BWBWWWWBWBBWBBWBBWBBWWBBWBWWWWBBBBWWBBWWWWWWWBBW WWBWWBBBBWBWWBBBBBWWBWWWBBWWWBBBWBBWBWBBBWWBWWWB WWWWBWBWWWBWBBWWWBWBWWWWBWBWBBWWBWBBBBWBWBWBBWBW WWBWBWWBBBBBWWWWWWBWBBWWWBWBWWWWBBBWWBBWBBBWWBWW WBBWBBWWWBWWWWBBWBBWWBBWWWWWWWBWBWWBBWWWWBWBWWBW WBWBBBBWWWWWWBWWBBWBBBWWBWWWBBBBWBWBBBBBWBBBWBWB BWBBWWBWWWWWWWWBBBBWWBWWWBWBWWWBBBWBBBWBWWWBWBWW WWWBBWWWWBWBBBBBBBBWWBBWBBBWWWWWWWBBWBWBBBBBBBBW BBWBBWBBBBBBBWWWBWWBBBWWWBWWBWBBBWWBWWWBWWWBBBBW BWWBBWBWWBBWBBBBBWWWWBBBWWWWWBBWBWBWBBWWBBBWWBWB WBWWWWBBWBWWWBBBWBWBWBBWWBWWBWWBWBWBBWWBWBWWBWBB WBWWBWWWBBBWBWBBWBBBBBBBBWWBWBBBBWBWBWBBWWWWWWBW BWWBWWWBBBWWBWWBWWWWBBBWWBBBBWWWBBWWWWBWBWWWBWBW BBBBBBBWBWBBWBBWBBWWWWWWWWWWWWBBWWBBWWWWBBWWBBBB WWWBWWWWBBWBWBWBBBBWWWWWWBWBWBWBWBBBBWBBBBWBBBBW WWBWWBWWBBWWBWBBBBBWWWBBWBWBBBWWWWBBWWBWWBBWWWBW WWWBWBWBWWWWWWWWBBWBWWWWBWBWWBWWWBWBWBWWWBWWBBBB BWWWBBBBBBBWWBBBBBWWWWBBWWWBWWBWWBWWWBBBBBBBBWWB BWWBWBBWWWBBBWWWWBBWBBWWWWWBBBWWWWWBBWBWWWWBBWBB BBBBBBBWBBBWWBBWBBWBBWWWWBWBBBWWWWWWWBWWBBBBWWBB BWBWWWBWWWBBBWBBWBWBWWBBBBWWWBWBWWWBWBWWWWBBWBBW BWWWWWWWWWWWWWBBBWBBBWWBBBWBWBWBWWBWWWBWBWBBBBWB BWBBWWWWBBWBBBBBBWBWBBBWBWWWWBBWBWWWWBBBBBWWWWBW BBBBBWWBWBBBWBBWWWBBBWBWBBBBWBBWBBWBBWBWWBWWBBWW BBWBWBWWBBBBBBBWWBWWBWWBWBWWWWBBWWBWWWWWBBWWBWBW BBWWBBWWBBBWBBBBBBBBWBBBWBWWBBBWWBWBWBWBWBWWWBWB WBWBBBWWWBBWWBWBBWWWWWWBBBWWBWBWWBWBBWWWWBBBWBWB WBWWBBWBBBBBWWWWBBBWBWBWWBBWWBBWBBWWBBBBBBBBBWWW BWWWBBWBWWWWWWWBWWWWWWWBWBBWWBBBBBBWBBWWWWBBBBBB WWWWWWBWWWBWBBBWWWBBBBBBWWBWBWWBWBBWWBWBBWBBBBWB WBBBBBBBWBWBWBBBBBWWBWBBWBBBWBBWBBWBBBWBBWWBBBBW BWBWBBBWBBBWBBBBWWWBWBBBWBBBWBBWWWWBBBBBWWBWWBBB BBWWWWWBBBBBWBBBWBBWWBBWBWWBBBWBWBBWWBWWBBWWBWBW WBBWWWWWWWWBWWWBBWWBWBWWBBBWBBWBWBBBWWWBBBBBWBBB\n"
     ]
    }
   ],
   "source": [
    "H, W = map(int, input().split())\n",
    "CB = list(map(list, input().split()))"
   ]
  },
  {
   "cell_type": "code",
   "execution_count": 73,
   "id": "2eedd203",
   "metadata": {},
   "outputs": [
    {
     "name": "stdout",
     "output_type": "stream",
     "text": [
      "20\n"
     ]
    }
   ],
   "source": [
    "result = []\n",
    "for y in range(H - 7):\n",
    "    for x in range(W - 7):\n",
    "        result.append(num_chess_1(x, y, CB))\n",
    "        result.append(num_chess_2(x, y, CB))\n",
    "        \n",
    "print(min(result))"
   ]
  }
 ],
 "metadata": {
  "kernelspec": {
   "display_name": "Python 3 (ipykernel)",
   "language": "python",
   "name": "python3"
  },
  "language_info": {
   "codemirror_mode": {
    "name": "ipython",
    "version": 3
   },
   "file_extension": ".py",
   "mimetype": "text/x-python",
   "name": "python",
   "nbconvert_exporter": "python",
   "pygments_lexer": "ipython3",
   "version": "3.9.7"
  }
 },
 "nbformat": 4,
 "nbformat_minor": 5
}
